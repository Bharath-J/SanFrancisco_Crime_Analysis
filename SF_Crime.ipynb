{
 "cells": [
  {
   "cell_type": "code",
   "execution_count": 65,
   "metadata": {},
   "outputs": [],
   "source": [
    "#Install following libraries if not installed already\n",
    "#!pip install sodapy\n",
    "#!pip install plotly"
   ]
  },
  {
   "cell_type": "code",
   "execution_count": 86,
   "metadata": {},
   "outputs": [
    {
     "data": {
      "text/html": [
       "<script type=\"text/javascript\">window.PlotlyConfig = {MathJaxConfig: 'local'};</script><script type=\"text/javascript\">if (window.MathJax) {MathJax.Hub.Config({SVG: {font: \"STIX-Web\"}});}</script><script>requirejs.config({paths: { 'plotly': ['https://cdn.plot.ly/plotly-latest.min']},});if(!window._Plotly) {require(['plotly'],function(plotly) {window._Plotly=plotly;});}</script>"
      ],
      "text/vnd.plotly.v1+html": [
       "<script type=\"text/javascript\">window.PlotlyConfig = {MathJaxConfig: 'local'};</script><script type=\"text/javascript\">if (window.MathJax) {MathJax.Hub.Config({SVG: {font: \"STIX-Web\"}});}</script><script>requirejs.config({paths: { 'plotly': ['https://cdn.plot.ly/plotly-latest.min']},});if(!window._Plotly) {require(['plotly'],function(plotly) {window._Plotly=plotly;});}</script>"
      ]
     },
     "metadata": {},
     "output_type": "display_data"
    }
   ],
   "source": [
    "#Import libraries\n",
    "from sodapy import Socrata\n",
    "import plotly.offline as pyo\n",
    "from plotly.offline import init_notebook_mode, iplot\n",
    "import plotly.graph_objs as go\n",
    "import ipywidgets as widgets\n",
    "import pandas as pd\n",
    "import numpy as np\n",
    "from scipy import special\n",
    "\n",
    "init_notebook_mode(connected=True)"
   ]
  },
  {
   "cell_type": "code",
   "execution_count": 67,
   "metadata": {},
   "outputs": [
    {
     "name": "stderr",
     "output_type": "stream",
     "text": [
      "WARNING:root:Requests made without an app_token will be subject to strict throttling limits.\n"
     ]
    }
   ],
   "source": [
    "client = Socrata(\"data.sfgov.org\", None)"
   ]
  },
  {
   "cell_type": "code",
   "execution_count": 68,
   "metadata": {},
   "outputs": [],
   "source": [
    "results = client.get(\"wg3w-h783\", limit=2000)"
   ]
  },
  {
   "cell_type": "code",
   "execution_count": 69,
   "metadata": {},
   "outputs": [],
   "source": [
    "results_df = pd.DataFrame.from_records(results)"
   ]
  },
  {
   "cell_type": "code",
   "execution_count": 70,
   "metadata": {},
   "outputs": [
    {
     "data": {
      "text/plain": [
       "Index(['incident_datetime', 'incident_date', 'incident_time', 'incident_year',\n",
       "       'incident_day_of_week', 'report_datetime', 'row_id', 'incident_id',\n",
       "       'incident_number', 'report_type_code', 'report_type_description',\n",
       "       'filed_online', 'incident_code', 'incident_category',\n",
       "       'incident_subcategory', 'incident_description', 'resolution',\n",
       "       'police_district', 'cad_number', 'intersection', 'cnn',\n",
       "       'analysis_neighborhood', 'supervisor_district', 'latitude', 'longitude',\n",
       "       'point', ':@computed_region_6qbp_sg9q', ':@computed_region_qgnn_b9vv',\n",
       "       ':@computed_region_26cr_cadq', ':@computed_region_ajp5_b2md',\n",
       "       ':@computed_region_6pnf_4xz7', ':@computed_region_nqbw_i6c3',\n",
       "       ':@computed_region_2dwj_jsy4', ':@computed_region_h4ep_8xdi',\n",
       "       ':@computed_region_jg9y_a9du', ':@computed_region_y6ts_4iup'],\n",
       "      dtype='object')"
      ]
     },
     "execution_count": 70,
     "metadata": {},
     "output_type": "execute_result"
    }
   ],
   "source": [
    "results_df.columns"
   ]
  },
  {
   "cell_type": "code",
   "execution_count": 71,
   "metadata": {},
   "outputs": [],
   "source": [
    "#Takfe a copy of original dataframe\n",
    "results_df_copy = results_df.copy()"
   ]
  },
  {
   "cell_type": "code",
   "execution_count": 72,
   "metadata": {},
   "outputs": [],
   "source": [
    "#Drop junk columns\n",
    "results_df_copy = results_df_copy[results_df_copy.columns.drop(list(results_df_copy.filter(regex=':@computed_region')))]"
   ]
  },
  {
   "cell_type": "code",
   "execution_count": 73,
   "metadata": {},
   "outputs": [
    {
     "data": {
      "text/plain": [
       "Index(['incident_datetime', 'incident_date', 'incident_time', 'incident_year',\n",
       "       'incident_day_of_week', 'report_datetime', 'row_id', 'incident_id',\n",
       "       'incident_number', 'report_type_code', 'report_type_description',\n",
       "       'filed_online', 'incident_code', 'incident_category',\n",
       "       'incident_subcategory', 'incident_description', 'resolution',\n",
       "       'police_district', 'cad_number', 'intersection', 'cnn',\n",
       "       'analysis_neighborhood', 'supervisor_district', 'latitude', 'longitude',\n",
       "       'point'],\n",
       "      dtype='object')"
      ]
     },
     "execution_count": 73,
     "metadata": {},
     "output_type": "execute_result"
    }
   ],
   "source": [
    "results_df_copy.columns"
   ]
  },
  {
   "cell_type": "markdown",
   "metadata": {},
   "source": [
    "### Which day of the week has the highest and the lowest incident rate?"
   ]
  },
  {
   "cell_type": "code",
   "execution_count": 74,
   "metadata": {},
   "outputs": [
    {
     "data": {
      "text/html": [
       "<div>\n",
       "<style scoped>\n",
       "    .dataframe tbody tr th:only-of-type {\n",
       "        vertical-align: middle;\n",
       "    }\n",
       "\n",
       "    .dataframe tbody tr th {\n",
       "        vertical-align: top;\n",
       "    }\n",
       "\n",
       "    .dataframe thead th {\n",
       "        text-align: right;\n",
       "    }\n",
       "</style>\n",
       "<table border=\"1\" class=\"dataframe\">\n",
       "  <thead>\n",
       "    <tr style=\"text-align: right;\">\n",
       "      <th></th>\n",
       "      <th>incident_day_of_week</th>\n",
       "      <th>incident_description</th>\n",
       "    </tr>\n",
       "  </thead>\n",
       "  <tbody>\n",
       "    <tr>\n",
       "      <th>0</th>\n",
       "      <td>Friday</td>\n",
       "      <td>362</td>\n",
       "    </tr>\n",
       "    <tr>\n",
       "      <th>1</th>\n",
       "      <td>Monday</td>\n",
       "      <td>346</td>\n",
       "    </tr>\n",
       "    <tr>\n",
       "      <th>2</th>\n",
       "      <td>Saturday</td>\n",
       "      <td>249</td>\n",
       "    </tr>\n",
       "    <tr>\n",
       "      <th>3</th>\n",
       "      <td>Sunday</td>\n",
       "      <td>197</td>\n",
       "    </tr>\n",
       "    <tr>\n",
       "      <th>4</th>\n",
       "      <td>Thursday</td>\n",
       "      <td>239</td>\n",
       "    </tr>\n",
       "    <tr>\n",
       "      <th>5</th>\n",
       "      <td>Tuesday</td>\n",
       "      <td>333</td>\n",
       "    </tr>\n",
       "    <tr>\n",
       "      <th>6</th>\n",
       "      <td>Wednesday</td>\n",
       "      <td>274</td>\n",
       "    </tr>\n",
       "  </tbody>\n",
       "</table>\n",
       "</div>"
      ],
      "text/plain": [
       "  incident_day_of_week  incident_description\n",
       "0               Friday                   362\n",
       "1               Monday                   346\n",
       "2             Saturday                   249\n",
       "3               Sunday                   197\n",
       "4             Thursday                   239\n",
       "5              Tuesday                   333\n",
       "6            Wednesday                   274"
      ]
     },
     "execution_count": 74,
     "metadata": {},
     "output_type": "execute_result"
    }
   ],
   "source": [
    "#Aggregate dataframe by incident_day_of_week\n",
    "\n",
    "results_groupby = results_df_copy.groupby(by='incident_day_of_week', as_index=False)['incident_description'].count()\n",
    "results_groupby = pd.DataFrame(results_groupby)\n",
    "results_groupby\n",
    "\n",
    "#list(results_groupby['incident_day_of_week'])"
   ]
  },
  {
   "cell_type": "code",
   "execution_count": 75,
   "metadata": {},
   "outputs": [
    {
     "data": {
      "text/html": [
       "<div>\n",
       "<style scoped>\n",
       "    .dataframe tbody tr th:only-of-type {\n",
       "        vertical-align: middle;\n",
       "    }\n",
       "\n",
       "    .dataframe tbody tr th {\n",
       "        vertical-align: top;\n",
       "    }\n",
       "\n",
       "    .dataframe thead th {\n",
       "        text-align: right;\n",
       "    }\n",
       "</style>\n",
       "<table border=\"1\" class=\"dataframe\">\n",
       "  <thead>\n",
       "    <tr style=\"text-align: right;\">\n",
       "      <th></th>\n",
       "      <th>incident_day_of_week</th>\n",
       "      <th>incident_description</th>\n",
       "    </tr>\n",
       "  </thead>\n",
       "  <tbody>\n",
       "    <tr>\n",
       "      <th>0</th>\n",
       "      <td>Monday</td>\n",
       "      <td>346</td>\n",
       "    </tr>\n",
       "    <tr>\n",
       "      <th>1</th>\n",
       "      <td>Tuesday</td>\n",
       "      <td>333</td>\n",
       "    </tr>\n",
       "    <tr>\n",
       "      <th>2</th>\n",
       "      <td>Wednesday</td>\n",
       "      <td>274</td>\n",
       "    </tr>\n",
       "    <tr>\n",
       "      <th>3</th>\n",
       "      <td>Thursday</td>\n",
       "      <td>239</td>\n",
       "    </tr>\n",
       "    <tr>\n",
       "      <th>4</th>\n",
       "      <td>Friday</td>\n",
       "      <td>362</td>\n",
       "    </tr>\n",
       "    <tr>\n",
       "      <th>5</th>\n",
       "      <td>Saturday</td>\n",
       "      <td>249</td>\n",
       "    </tr>\n",
       "    <tr>\n",
       "      <th>6</th>\n",
       "      <td>Sunday</td>\n",
       "      <td>197</td>\n",
       "    </tr>\n",
       "  </tbody>\n",
       "</table>\n",
       "</div>"
      ],
      "text/plain": [
       "  incident_day_of_week  incident_description\n",
       "0               Monday                   346\n",
       "1              Tuesday                   333\n",
       "2            Wednesday                   274\n",
       "3             Thursday                   239\n",
       "4               Friday                   362\n",
       "5             Saturday                   249\n",
       "6               Sunday                   197"
      ]
     },
     "execution_count": 75,
     "metadata": {},
     "output_type": "execute_result"
    }
   ],
   "source": [
    "#Re-order incident_day_of_week to Monday, Tuesday, etc\n",
    "results_df_copy['incident_day_of_week'] = pd.Categorical(values=results_df_copy['incident_day_of_week'],\n",
    "                                                        categories=['Monday','Tuesday','Wednesday','Thursday',\n",
    "                                                                   'Friday','Saturday','Sunday'],\n",
    "                                                        ordered=True)\n",
    "results_groupby = results_df_copy.groupby(by='incident_day_of_week', as_index=False)['incident_description'].count()\n",
    "results_groupby = pd.DataFrame(results_groupby)\n",
    "results_groupby"
   ]
  },
  {
   "cell_type": "code",
   "execution_count": 87,
   "metadata": {},
   "outputs": [
    {
     "data": {
      "application/vnd.plotly.v1+json": {
       "config": {
        "linkText": "Export to plot.ly",
        "plotlyServerURL": "https://plot.ly",
        "showLink": false
       },
       "data": [
        {
         "marker": {
          "color": "rgb(51,204,153)",
          "line": {
           "width": 2
          },
          "size": 10,
          "symbol": "circle"
         },
         "mode": "markers+lines",
         "type": "scatter",
         "uid": "bc5b61e3-201d-4705-93cb-35a84689c4ec",
         "x": [
          "Monday",
          "Tuesday",
          "Wednesday",
          "Thursday",
          "Friday",
          "Saturday",
          "Sunday"
         ],
         "y": [
          346,
          333,
          274,
          239,
          362,
          249,
          197
         ]
        }
       ],
       "layout": {
        "hovermode": "closest",
        "title": {
         "text": "Number of Incidents by Day of Week"
        },
        "xaxis": {
         "title": {
          "text": "Incident Day of Week"
         }
        },
        "yaxis": {
         "title": {
          "text": "Number of Incidents"
         }
        }
       }
      },
      "text/html": [
       "<div id=\"58f16664-1124-4e48-bb8d-9f62d0bce9a7\" style=\"height: 525px; width: 100%;\" class=\"plotly-graph-div\"></div><script type=\"text/javascript\">require([\"plotly\"], function(Plotly) { window.PLOTLYENV=window.PLOTLYENV || {};window.PLOTLYENV.BASE_URL=\"https://plot.ly\";\n",
       "if (document.getElementById(\"58f16664-1124-4e48-bb8d-9f62d0bce9a7\")) {\n",
       "    Plotly.newPlot(\"58f16664-1124-4e48-bb8d-9f62d0bce9a7\", [{\"marker\": {\"color\": \"rgb(51,204,153)\", \"line\": {\"width\": 2}, \"size\": 10, \"symbol\": \"circle\"}, \"mode\": \"markers+lines\", \"x\": [\"Monday\", \"Tuesday\", \"Wednesday\", \"Thursday\", \"Friday\", \"Saturday\", \"Sunday\"], \"y\": [346, 333, 274, 239, 362, 249, 197], \"type\": \"scatter\", \"uid\": \"bc5b61e3-201d-4705-93cb-35a84689c4ec\"}], {\"hovermode\": \"closest\", \"title\": {\"text\": \"Number of Incidents by Day of Week\"}, \"xaxis\": {\"title\": {\"text\": \"Incident Day of Week\"}}, \"yaxis\": {\"title\": {\"text\": \"Number of Incidents\"}}}, {\"showLink\": false, \"linkText\": \"Export to plot.ly\", \"plotlyServerURL\": \"https://plot.ly\"}); \n",
       "}\n",
       "});</script><script type=\"text/javascript\">window.addEventListener(\"resize\", function(){if (document.getElementById(\"58f16664-1124-4e48-bb8d-9f62d0bce9a7\")) {window._Plotly.Plots.resize(document.getElementById(\"58f16664-1124-4e48-bb8d-9f62d0bce9a7\"));};})</script>"
      ],
      "text/vnd.plotly.v1+html": [
       "<div id=\"58f16664-1124-4e48-bb8d-9f62d0bce9a7\" style=\"height: 525px; width: 100%;\" class=\"plotly-graph-div\"></div><script type=\"text/javascript\">require([\"plotly\"], function(Plotly) { window.PLOTLYENV=window.PLOTLYENV || {};window.PLOTLYENV.BASE_URL=\"https://plot.ly\";\n",
       "if (document.getElementById(\"58f16664-1124-4e48-bb8d-9f62d0bce9a7\")) {\n",
       "    Plotly.newPlot(\"58f16664-1124-4e48-bb8d-9f62d0bce9a7\", [{\"marker\": {\"color\": \"rgb(51,204,153)\", \"line\": {\"width\": 2}, \"size\": 10, \"symbol\": \"circle\"}, \"mode\": \"markers+lines\", \"x\": [\"Monday\", \"Tuesday\", \"Wednesday\", \"Thursday\", \"Friday\", \"Saturday\", \"Sunday\"], \"y\": [346, 333, 274, 239, 362, 249, 197], \"type\": \"scatter\", \"uid\": \"bc5b61e3-201d-4705-93cb-35a84689c4ec\"}], {\"hovermode\": \"closest\", \"title\": {\"text\": \"Number of Incidents by Day of Week\"}, \"xaxis\": {\"title\": {\"text\": \"Incident Day of Week\"}}, \"yaxis\": {\"title\": {\"text\": \"Number of Incidents\"}}}, {\"showLink\": false, \"linkText\": \"Export to plot.ly\", \"plotlyServerURL\": \"https://plot.ly\"}); \n",
       "}\n",
       "});</script><script type=\"text/javascript\">window.addEventListener(\"resize\", function(){if (document.getElementById(\"58f16664-1124-4e48-bb8d-9f62d0bce9a7\")) {window._Plotly.Plots.resize(document.getElementById(\"58f16664-1124-4e48-bb8d-9f62d0bce9a7\"));};})</script>"
      ]
     },
     "metadata": {},
     "output_type": "display_data"
    }
   ],
   "source": [
    "data = [go.Scatter(\n",
    "    x = results_groupby['incident_day_of_week'],\n",
    "    y = results_groupby['incident_description'],\n",
    "    mode = 'markers+lines',\n",
    "    marker = dict(\n",
    "        size = 10,\n",
    "        color = 'rgb(51,204,153)',\n",
    "        symbol = 'circle',\n",
    "        line = dict(\n",
    "            width = 2)\n",
    "    )\n",
    "    )]\n",
    "\n",
    "layout = go.Layout(\n",
    "    title = 'Number of Incidents by Day of Week',\n",
    "    xaxis = dict(title='Incident Day of Week'),\n",
    "    yaxis = dict(title='Number of Incidents'),\n",
    "    hovermode='closest'\n",
    ")\n",
    "\n",
    "fig = go.Figure(data=data, layout=layout)\n",
    "iplot(fig, filename='Day_of_Week_Incidents.html')"
   ]
  },
  {
   "cell_type": "markdown",
   "metadata": {},
   "source": [
    "### Incident trend for over a year\n"
   ]
  },
  {
   "cell_type": "code",
   "execution_count": 77,
   "metadata": {},
   "outputs": [
    {
     "data": {
      "text/plain": [
       "incident_datetime            object\n",
       "incident_date                object\n",
       "incident_time                object\n",
       "incident_year                object\n",
       "incident_day_of_week       category\n",
       "report_datetime              object\n",
       "row_id                       object\n",
       "incident_id                  object\n",
       "incident_number              object\n",
       "report_type_code             object\n",
       "report_type_description      object\n",
       "filed_online                 object\n",
       "incident_code                object\n",
       "incident_category            object\n",
       "incident_subcategory         object\n",
       "incident_description         object\n",
       "resolution                   object\n",
       "police_district              object\n",
       "cad_number                   object\n",
       "intersection                 object\n",
       "cnn                          object\n",
       "analysis_neighborhood        object\n",
       "supervisor_district          object\n",
       "latitude                     object\n",
       "longitude                    object\n",
       "point                        object\n",
       "dtype: object"
      ]
     },
     "execution_count": 77,
     "metadata": {},
     "output_type": "execute_result"
    }
   ],
   "source": [
    "#Find datatype of incident_date\n",
    "results_df_copy.dtypes"
   ]
  },
  {
   "cell_type": "code",
   "execution_count": 78,
   "metadata": {},
   "outputs": [],
   "source": [
    "#Convert incident_date from object to datetime\n",
    "results_df_copy['incident_date'] = pd.to_datetime(results_df_copy['incident_date'])"
   ]
  },
  {
   "cell_type": "code",
   "execution_count": 79,
   "metadata": {},
   "outputs": [
    {
     "data": {
      "text/html": [
       "<div>\n",
       "<style scoped>\n",
       "    .dataframe tbody tr th:only-of-type {\n",
       "        vertical-align: middle;\n",
       "    }\n",
       "\n",
       "    .dataframe tbody tr th {\n",
       "        vertical-align: top;\n",
       "    }\n",
       "\n",
       "    .dataframe thead th {\n",
       "        text-align: right;\n",
       "    }\n",
       "</style>\n",
       "<table border=\"1\" class=\"dataframe\">\n",
       "  <thead>\n",
       "    <tr style=\"text-align: right;\">\n",
       "      <th></th>\n",
       "      <th>incident_date</th>\n",
       "      <th>incident_code</th>\n",
       "    </tr>\n",
       "  </thead>\n",
       "  <tbody>\n",
       "    <tr>\n",
       "      <th>0</th>\n",
       "      <td>2018-03-15</td>\n",
       "      <td>1</td>\n",
       "    </tr>\n",
       "    <tr>\n",
       "      <th>1</th>\n",
       "      <td>2018-05-22</td>\n",
       "      <td>1</td>\n",
       "    </tr>\n",
       "    <tr>\n",
       "      <th>2</th>\n",
       "      <td>2018-08-01</td>\n",
       "      <td>2</td>\n",
       "    </tr>\n",
       "    <tr>\n",
       "      <th>3</th>\n",
       "      <td>2018-08-21</td>\n",
       "      <td>1</td>\n",
       "    </tr>\n",
       "    <tr>\n",
       "      <th>4</th>\n",
       "      <td>2018-10-10</td>\n",
       "      <td>2</td>\n",
       "    </tr>\n",
       "    <tr>\n",
       "      <th>...</th>\n",
       "      <td>...</td>\n",
       "      <td>...</td>\n",
       "    </tr>\n",
       "    <tr>\n",
       "      <th>133</th>\n",
       "      <td>2020-05-19</td>\n",
       "      <td>31</td>\n",
       "    </tr>\n",
       "    <tr>\n",
       "      <th>134</th>\n",
       "      <td>2020-05-20</td>\n",
       "      <td>35</td>\n",
       "    </tr>\n",
       "    <tr>\n",
       "      <th>135</th>\n",
       "      <td>2020-05-21</td>\n",
       "      <td>106</td>\n",
       "    </tr>\n",
       "    <tr>\n",
       "      <th>136</th>\n",
       "      <td>2020-05-22</td>\n",
       "      <td>237</td>\n",
       "    </tr>\n",
       "    <tr>\n",
       "      <th>137</th>\n",
       "      <td>2020-05-23</td>\n",
       "      <td>136</td>\n",
       "    </tr>\n",
       "  </tbody>\n",
       "</table>\n",
       "<p>138 rows × 2 columns</p>\n",
       "</div>"
      ],
      "text/plain": [
       "    incident_date  incident_code\n",
       "0      2018-03-15              1\n",
       "1      2018-05-22              1\n",
       "2      2018-08-01              2\n",
       "3      2018-08-21              1\n",
       "4      2018-10-10              2\n",
       "..            ...            ...\n",
       "133    2020-05-19             31\n",
       "134    2020-05-20             35\n",
       "135    2020-05-21            106\n",
       "136    2020-05-22            237\n",
       "137    2020-05-23            136\n",
       "\n",
       "[138 rows x 2 columns]"
      ]
     },
     "execution_count": 79,
     "metadata": {},
     "output_type": "execute_result"
    }
   ],
   "source": [
    "#Group by date\n",
    "results_by_date = results_df_copy.groupby(by='incident_date', as_index=False)['incident_code'].count()\n",
    "results_by_date = pd.DataFrame(results_by_date)\n",
    "results_by_date"
   ]
  },
  {
   "cell_type": "code",
   "execution_count": 88,
   "metadata": {},
   "outputs": [
    {
     "data": {
      "application/vnd.plotly.v1+json": {
       "config": {
        "linkText": "Export to plot.ly",
        "plotlyServerURL": "https://plot.ly",
        "showLink": false
       },
       "data": [
        {
         "mode": "lines",
         "type": "scatter",
         "uid": "8afdd1e8-182c-4f67-81a9-a356ee0e6e8f",
         "x": [
          "2018-03-15 07:00:00",
          "2018-05-22 07:00:00",
          "2018-08-01 07:00:00",
          "2018-08-21 07:00:00",
          "2018-10-10 07:00:00",
          "2019-01-11 08:00:00",
          "2019-01-31 08:00:00",
          "2019-02-01 08:00:00",
          "2019-02-03 08:00:00",
          "2019-02-04 08:00:00",
          "2019-02-11 08:00:00",
          "2019-02-14 08:00:00",
          "2019-05-21 07:00:00",
          "2019-05-24 07:00:00",
          "2019-06-01 07:00:00",
          "2019-06-20 07:00:00",
          "2019-06-29 07:00:00",
          "2019-06-30 07:00:00",
          "2019-07-01 07:00:00",
          "2019-07-27 07:00:00",
          "2019-08-01 07:00:00",
          "2019-08-02 07:00:00",
          "2019-08-07 07:00:00",
          "2019-08-16 07:00:00",
          "2019-10-01 07:00:00",
          "2019-10-03 07:00:00",
          "2019-10-06 07:00:00",
          "2019-10-13 07:00:00",
          "2019-10-19 07:00:00",
          "2019-10-26 07:00:00",
          "2019-10-29 07:00:00",
          "2019-11-07 08:00:00",
          "2019-11-08 08:00:00",
          "2019-11-12 08:00:00",
          "2019-11-15 08:00:00",
          "2019-11-19 08:00:00",
          "2019-11-20 08:00:00",
          "2019-11-23 08:00:00",
          "2019-11-25 08:00:00",
          "2019-11-27 08:00:00",
          "2019-11-29 08:00:00",
          "2019-12-01 08:00:00",
          "2019-12-02 08:00:00",
          "2019-12-07 08:00:00",
          "2019-12-12 08:00:00",
          "2019-12-13 08:00:00",
          "2019-12-14 08:00:00",
          "2019-12-17 08:00:00",
          "2019-12-19 08:00:00",
          "2019-12-20 08:00:00",
          "2019-12-21 08:00:00",
          "2019-12-25 08:00:00",
          "2019-12-26 08:00:00",
          "2019-12-27 08:00:00",
          "2019-12-29 08:00:00",
          "2020-01-01 08:00:00",
          "2020-01-02 08:00:00",
          "2020-01-03 08:00:00",
          "2020-01-05 08:00:00",
          "2020-01-06 08:00:00",
          "2020-01-08 08:00:00",
          "2020-01-09 08:00:00",
          "2020-01-10 08:00:00",
          "2020-01-11 08:00:00",
          "2020-01-12 08:00:00",
          "2020-01-13 08:00:00",
          "2020-01-14 08:00:00",
          "2020-01-15 08:00:00",
          "2020-01-16 08:00:00",
          "2020-01-17 08:00:00",
          "2020-01-18 08:00:00",
          "2020-01-19 08:00:00",
          "2020-01-20 08:00:00",
          "2020-01-21 08:00:00",
          "2020-01-22 08:00:00",
          "2020-01-23 08:00:00",
          "2020-01-24 08:00:00",
          "2020-01-25 08:00:00",
          "2020-01-26 08:00:00",
          "2020-01-27 08:00:00",
          "2020-01-28 08:00:00",
          "2020-01-29 08:00:00",
          "2020-01-30 08:00:00",
          "2020-01-31 08:00:00",
          "2020-02-01 08:00:00",
          "2020-02-02 08:00:00",
          "2020-02-03 08:00:00",
          "2020-02-04 08:00:00",
          "2020-02-05 08:00:00",
          "2020-02-06 08:00:00",
          "2020-02-10 08:00:00",
          "2020-02-14 08:00:00",
          "2020-02-17 08:00:00",
          "2020-02-21 08:00:00",
          "2020-02-27 08:00:00",
          "2020-03-01 08:00:00",
          "2020-03-14 07:00:00",
          "2020-03-23 07:00:00",
          "2020-03-28 07:00:00",
          "2020-03-30 07:00:00",
          "2020-04-01 07:00:00",
          "2020-04-03 07:00:00",
          "2020-04-05 07:00:00",
          "2020-04-14 07:00:00",
          "2020-04-15 07:00:00",
          "2020-04-17 07:00:00",
          "2020-04-20 07:00:00",
          "2020-04-21 07:00:00",
          "2020-04-23 07:00:00",
          "2020-04-24 07:00:00",
          "2020-04-26 07:00:00",
          "2020-04-27 07:00:00",
          "2020-04-28 07:00:00",
          "2020-04-29 07:00:00",
          "2020-04-30 07:00:00",
          "2020-05-01 07:00:00",
          "2020-05-02 07:00:00",
          "2020-05-03 07:00:00",
          "2020-05-04 07:00:00",
          "2020-05-05 07:00:00",
          "2020-05-06 07:00:00",
          "2020-05-07 07:00:00",
          "2020-05-08 07:00:00",
          "2020-05-09 07:00:00",
          "2020-05-10 07:00:00",
          "2020-05-11 07:00:00",
          "2020-05-12 07:00:00",
          "2020-05-13 07:00:00",
          "2020-05-14 07:00:00",
          "2020-05-15 07:00:00",
          "2020-05-16 07:00:00",
          "2020-05-17 07:00:00",
          "2020-05-18 07:00:00",
          "2020-05-19 07:00:00",
          "2020-05-20 07:00:00",
          "2020-05-21 07:00:00",
          "2020-05-22 07:00:00",
          "2020-05-23 07:00:00"
         ],
         "y": [
          1,
          1,
          2,
          1,
          2,
          1,
          1,
          1,
          1,
          1,
          1,
          1,
          1,
          1,
          1,
          1,
          1,
          1,
          1,
          1,
          1,
          1,
          1,
          1,
          1,
          1,
          1,
          1,
          3,
          1,
          2,
          1,
          4,
          1,
          3,
          1,
          1,
          2,
          1,
          3,
          3,
          2,
          1,
          2,
          2,
          2,
          1,
          4,
          3,
          1,
          1,
          2,
          2,
          3,
          2,
          4,
          2,
          3,
          6,
          1,
          4,
          1,
          2,
          2,
          3,
          1,
          2,
          1,
          2,
          2,
          5,
          5,
          1,
          2,
          1,
          5,
          8,
          4,
          4,
          13,
          17,
          13,
          35,
          63,
          71,
          136,
          294,
          259,
          187,
          50,
          1,
          1,
          2,
          2,
          1,
          1,
          1,
          1,
          1,
          1,
          2,
          1,
          3,
          1,
          1,
          1,
          3,
          2,
          3,
          2,
          2,
          2,
          2,
          1,
          3,
          6,
          2,
          4,
          2,
          1,
          4,
          9,
          4,
          1,
          8,
          4,
          4,
          10,
          8,
          9,
          13,
          17,
          15,
          31,
          35,
          106,
          237,
          136
         ]
        }
       ],
       "layout": {
        "hovermode": "closest",
        "title": {
         "text": "Daily Incidents Since Jan 2018"
        },
        "xaxis": {
         "title": {
          "text": "Incident Date"
         }
        },
        "yaxis": {
         "title": {
          "text": "Incident Count"
         }
        }
       }
      },
      "text/html": [
       "<div id=\"a9d328a1-c071-40ad-bbfa-e18b48dd2035\" style=\"height: 525px; width: 100%;\" class=\"plotly-graph-div\"></div><script type=\"text/javascript\">require([\"plotly\"], function(Plotly) { window.PLOTLYENV=window.PLOTLYENV || {};window.PLOTLYENV.BASE_URL=\"https://plot.ly\";\n",
       "if (document.getElementById(\"a9d328a1-c071-40ad-bbfa-e18b48dd2035\")) {\n",
       "    Plotly.newPlot(\"a9d328a1-c071-40ad-bbfa-e18b48dd2035\", [{\"mode\": \"lines\", \"x\": [\"2018-03-15 07:00:00\", \"2018-05-22 07:00:00\", \"2018-08-01 07:00:00\", \"2018-08-21 07:00:00\", \"2018-10-10 07:00:00\", \"2019-01-11 08:00:00\", \"2019-01-31 08:00:00\", \"2019-02-01 08:00:00\", \"2019-02-03 08:00:00\", \"2019-02-04 08:00:00\", \"2019-02-11 08:00:00\", \"2019-02-14 08:00:00\", \"2019-05-21 07:00:00\", \"2019-05-24 07:00:00\", \"2019-06-01 07:00:00\", \"2019-06-20 07:00:00\", \"2019-06-29 07:00:00\", \"2019-06-30 07:00:00\", \"2019-07-01 07:00:00\", \"2019-07-27 07:00:00\", \"2019-08-01 07:00:00\", \"2019-08-02 07:00:00\", \"2019-08-07 07:00:00\", \"2019-08-16 07:00:00\", \"2019-10-01 07:00:00\", \"2019-10-03 07:00:00\", \"2019-10-06 07:00:00\", \"2019-10-13 07:00:00\", \"2019-10-19 07:00:00\", \"2019-10-26 07:00:00\", \"2019-10-29 07:00:00\", \"2019-11-07 08:00:00\", \"2019-11-08 08:00:00\", \"2019-11-12 08:00:00\", \"2019-11-15 08:00:00\", \"2019-11-19 08:00:00\", \"2019-11-20 08:00:00\", \"2019-11-23 08:00:00\", \"2019-11-25 08:00:00\", \"2019-11-27 08:00:00\", \"2019-11-29 08:00:00\", \"2019-12-01 08:00:00\", \"2019-12-02 08:00:00\", \"2019-12-07 08:00:00\", \"2019-12-12 08:00:00\", \"2019-12-13 08:00:00\", \"2019-12-14 08:00:00\", \"2019-12-17 08:00:00\", \"2019-12-19 08:00:00\", \"2019-12-20 08:00:00\", \"2019-12-21 08:00:00\", \"2019-12-25 08:00:00\", \"2019-12-26 08:00:00\", \"2019-12-27 08:00:00\", \"2019-12-29 08:00:00\", \"2020-01-01 08:00:00\", \"2020-01-02 08:00:00\", \"2020-01-03 08:00:00\", \"2020-01-05 08:00:00\", \"2020-01-06 08:00:00\", \"2020-01-08 08:00:00\", \"2020-01-09 08:00:00\", \"2020-01-10 08:00:00\", \"2020-01-11 08:00:00\", \"2020-01-12 08:00:00\", \"2020-01-13 08:00:00\", \"2020-01-14 08:00:00\", \"2020-01-15 08:00:00\", \"2020-01-16 08:00:00\", \"2020-01-17 08:00:00\", \"2020-01-18 08:00:00\", \"2020-01-19 08:00:00\", \"2020-01-20 08:00:00\", \"2020-01-21 08:00:00\", \"2020-01-22 08:00:00\", \"2020-01-23 08:00:00\", \"2020-01-24 08:00:00\", \"2020-01-25 08:00:00\", \"2020-01-26 08:00:00\", \"2020-01-27 08:00:00\", \"2020-01-28 08:00:00\", \"2020-01-29 08:00:00\", \"2020-01-30 08:00:00\", \"2020-01-31 08:00:00\", \"2020-02-01 08:00:00\", \"2020-02-02 08:00:00\", \"2020-02-03 08:00:00\", \"2020-02-04 08:00:00\", \"2020-02-05 08:00:00\", \"2020-02-06 08:00:00\", \"2020-02-10 08:00:00\", \"2020-02-14 08:00:00\", \"2020-02-17 08:00:00\", \"2020-02-21 08:00:00\", \"2020-02-27 08:00:00\", \"2020-03-01 08:00:00\", \"2020-03-14 07:00:00\", \"2020-03-23 07:00:00\", \"2020-03-28 07:00:00\", \"2020-03-30 07:00:00\", \"2020-04-01 07:00:00\", \"2020-04-03 07:00:00\", \"2020-04-05 07:00:00\", \"2020-04-14 07:00:00\", \"2020-04-15 07:00:00\", \"2020-04-17 07:00:00\", \"2020-04-20 07:00:00\", \"2020-04-21 07:00:00\", \"2020-04-23 07:00:00\", \"2020-04-24 07:00:00\", \"2020-04-26 07:00:00\", \"2020-04-27 07:00:00\", \"2020-04-28 07:00:00\", \"2020-04-29 07:00:00\", \"2020-04-30 07:00:00\", \"2020-05-01 07:00:00\", \"2020-05-02 07:00:00\", \"2020-05-03 07:00:00\", \"2020-05-04 07:00:00\", \"2020-05-05 07:00:00\", \"2020-05-06 07:00:00\", \"2020-05-07 07:00:00\", \"2020-05-08 07:00:00\", \"2020-05-09 07:00:00\", \"2020-05-10 07:00:00\", \"2020-05-11 07:00:00\", \"2020-05-12 07:00:00\", \"2020-05-13 07:00:00\", \"2020-05-14 07:00:00\", \"2020-05-15 07:00:00\", \"2020-05-16 07:00:00\", \"2020-05-17 07:00:00\", \"2020-05-18 07:00:00\", \"2020-05-19 07:00:00\", \"2020-05-20 07:00:00\", \"2020-05-21 07:00:00\", \"2020-05-22 07:00:00\", \"2020-05-23 07:00:00\"], \"y\": [1, 1, 2, 1, 2, 1, 1, 1, 1, 1, 1, 1, 1, 1, 1, 1, 1, 1, 1, 1, 1, 1, 1, 1, 1, 1, 1, 1, 3, 1, 2, 1, 4, 1, 3, 1, 1, 2, 1, 3, 3, 2, 1, 2, 2, 2, 1, 4, 3, 1, 1, 2, 2, 3, 2, 4, 2, 3, 6, 1, 4, 1, 2, 2, 3, 1, 2, 1, 2, 2, 5, 5, 1, 2, 1, 5, 8, 4, 4, 13, 17, 13, 35, 63, 71, 136, 294, 259, 187, 50, 1, 1, 2, 2, 1, 1, 1, 1, 1, 1, 2, 1, 3, 1, 1, 1, 3, 2, 3, 2, 2, 2, 2, 1, 3, 6, 2, 4, 2, 1, 4, 9, 4, 1, 8, 4, 4, 10, 8, 9, 13, 17, 15, 31, 35, 106, 237, 136], \"type\": \"scatter\", \"uid\": \"8afdd1e8-182c-4f67-81a9-a356ee0e6e8f\"}], {\"hovermode\": \"closest\", \"title\": {\"text\": \"Daily Incidents Since Jan 2018\"}, \"xaxis\": {\"title\": {\"text\": \"Incident Date\"}}, \"yaxis\": {\"title\": {\"text\": \"Incident Count\"}}}, {\"showLink\": false, \"linkText\": \"Export to plot.ly\", \"plotlyServerURL\": \"https://plot.ly\"}); \n",
       "}\n",
       "});</script><script type=\"text/javascript\">window.addEventListener(\"resize\", function(){if (document.getElementById(\"a9d328a1-c071-40ad-bbfa-e18b48dd2035\")) {window._Plotly.Plots.resize(document.getElementById(\"a9d328a1-c071-40ad-bbfa-e18b48dd2035\"));};})</script>"
      ],
      "text/vnd.plotly.v1+html": [
       "<div id=\"a9d328a1-c071-40ad-bbfa-e18b48dd2035\" style=\"height: 525px; width: 100%;\" class=\"plotly-graph-div\"></div><script type=\"text/javascript\">require([\"plotly\"], function(Plotly) { window.PLOTLYENV=window.PLOTLYENV || {};window.PLOTLYENV.BASE_URL=\"https://plot.ly\";\n",
       "if (document.getElementById(\"a9d328a1-c071-40ad-bbfa-e18b48dd2035\")) {\n",
       "    Plotly.newPlot(\"a9d328a1-c071-40ad-bbfa-e18b48dd2035\", [{\"mode\": \"lines\", \"x\": [\"2018-03-15 07:00:00\", \"2018-05-22 07:00:00\", \"2018-08-01 07:00:00\", \"2018-08-21 07:00:00\", \"2018-10-10 07:00:00\", \"2019-01-11 08:00:00\", \"2019-01-31 08:00:00\", \"2019-02-01 08:00:00\", \"2019-02-03 08:00:00\", \"2019-02-04 08:00:00\", \"2019-02-11 08:00:00\", \"2019-02-14 08:00:00\", \"2019-05-21 07:00:00\", \"2019-05-24 07:00:00\", \"2019-06-01 07:00:00\", \"2019-06-20 07:00:00\", \"2019-06-29 07:00:00\", \"2019-06-30 07:00:00\", \"2019-07-01 07:00:00\", \"2019-07-27 07:00:00\", \"2019-08-01 07:00:00\", \"2019-08-02 07:00:00\", \"2019-08-07 07:00:00\", \"2019-08-16 07:00:00\", \"2019-10-01 07:00:00\", \"2019-10-03 07:00:00\", \"2019-10-06 07:00:00\", \"2019-10-13 07:00:00\", \"2019-10-19 07:00:00\", \"2019-10-26 07:00:00\", \"2019-10-29 07:00:00\", \"2019-11-07 08:00:00\", \"2019-11-08 08:00:00\", \"2019-11-12 08:00:00\", \"2019-11-15 08:00:00\", \"2019-11-19 08:00:00\", \"2019-11-20 08:00:00\", \"2019-11-23 08:00:00\", \"2019-11-25 08:00:00\", \"2019-11-27 08:00:00\", \"2019-11-29 08:00:00\", \"2019-12-01 08:00:00\", \"2019-12-02 08:00:00\", \"2019-12-07 08:00:00\", \"2019-12-12 08:00:00\", \"2019-12-13 08:00:00\", \"2019-12-14 08:00:00\", \"2019-12-17 08:00:00\", \"2019-12-19 08:00:00\", \"2019-12-20 08:00:00\", \"2019-12-21 08:00:00\", \"2019-12-25 08:00:00\", \"2019-12-26 08:00:00\", \"2019-12-27 08:00:00\", \"2019-12-29 08:00:00\", \"2020-01-01 08:00:00\", \"2020-01-02 08:00:00\", \"2020-01-03 08:00:00\", \"2020-01-05 08:00:00\", \"2020-01-06 08:00:00\", \"2020-01-08 08:00:00\", \"2020-01-09 08:00:00\", \"2020-01-10 08:00:00\", \"2020-01-11 08:00:00\", \"2020-01-12 08:00:00\", \"2020-01-13 08:00:00\", \"2020-01-14 08:00:00\", \"2020-01-15 08:00:00\", \"2020-01-16 08:00:00\", \"2020-01-17 08:00:00\", \"2020-01-18 08:00:00\", \"2020-01-19 08:00:00\", \"2020-01-20 08:00:00\", \"2020-01-21 08:00:00\", \"2020-01-22 08:00:00\", \"2020-01-23 08:00:00\", \"2020-01-24 08:00:00\", \"2020-01-25 08:00:00\", \"2020-01-26 08:00:00\", \"2020-01-27 08:00:00\", \"2020-01-28 08:00:00\", \"2020-01-29 08:00:00\", \"2020-01-30 08:00:00\", \"2020-01-31 08:00:00\", \"2020-02-01 08:00:00\", \"2020-02-02 08:00:00\", \"2020-02-03 08:00:00\", \"2020-02-04 08:00:00\", \"2020-02-05 08:00:00\", \"2020-02-06 08:00:00\", \"2020-02-10 08:00:00\", \"2020-02-14 08:00:00\", \"2020-02-17 08:00:00\", \"2020-02-21 08:00:00\", \"2020-02-27 08:00:00\", \"2020-03-01 08:00:00\", \"2020-03-14 07:00:00\", \"2020-03-23 07:00:00\", \"2020-03-28 07:00:00\", \"2020-03-30 07:00:00\", \"2020-04-01 07:00:00\", \"2020-04-03 07:00:00\", \"2020-04-05 07:00:00\", \"2020-04-14 07:00:00\", \"2020-04-15 07:00:00\", \"2020-04-17 07:00:00\", \"2020-04-20 07:00:00\", \"2020-04-21 07:00:00\", \"2020-04-23 07:00:00\", \"2020-04-24 07:00:00\", \"2020-04-26 07:00:00\", \"2020-04-27 07:00:00\", \"2020-04-28 07:00:00\", \"2020-04-29 07:00:00\", \"2020-04-30 07:00:00\", \"2020-05-01 07:00:00\", \"2020-05-02 07:00:00\", \"2020-05-03 07:00:00\", \"2020-05-04 07:00:00\", \"2020-05-05 07:00:00\", \"2020-05-06 07:00:00\", \"2020-05-07 07:00:00\", \"2020-05-08 07:00:00\", \"2020-05-09 07:00:00\", \"2020-05-10 07:00:00\", \"2020-05-11 07:00:00\", \"2020-05-12 07:00:00\", \"2020-05-13 07:00:00\", \"2020-05-14 07:00:00\", \"2020-05-15 07:00:00\", \"2020-05-16 07:00:00\", \"2020-05-17 07:00:00\", \"2020-05-18 07:00:00\", \"2020-05-19 07:00:00\", \"2020-05-20 07:00:00\", \"2020-05-21 07:00:00\", \"2020-05-22 07:00:00\", \"2020-05-23 07:00:00\"], \"y\": [1, 1, 2, 1, 2, 1, 1, 1, 1, 1, 1, 1, 1, 1, 1, 1, 1, 1, 1, 1, 1, 1, 1, 1, 1, 1, 1, 1, 3, 1, 2, 1, 4, 1, 3, 1, 1, 2, 1, 3, 3, 2, 1, 2, 2, 2, 1, 4, 3, 1, 1, 2, 2, 3, 2, 4, 2, 3, 6, 1, 4, 1, 2, 2, 3, 1, 2, 1, 2, 2, 5, 5, 1, 2, 1, 5, 8, 4, 4, 13, 17, 13, 35, 63, 71, 136, 294, 259, 187, 50, 1, 1, 2, 2, 1, 1, 1, 1, 1, 1, 2, 1, 3, 1, 1, 1, 3, 2, 3, 2, 2, 2, 2, 1, 3, 6, 2, 4, 2, 1, 4, 9, 4, 1, 8, 4, 4, 10, 8, 9, 13, 17, 15, 31, 35, 106, 237, 136], \"type\": \"scatter\", \"uid\": \"8afdd1e8-182c-4f67-81a9-a356ee0e6e8f\"}], {\"hovermode\": \"closest\", \"title\": {\"text\": \"Daily Incidents Since Jan 2018\"}, \"xaxis\": {\"title\": {\"text\": \"Incident Date\"}}, \"yaxis\": {\"title\": {\"text\": \"Incident Count\"}}}, {\"showLink\": false, \"linkText\": \"Export to plot.ly\", \"plotlyServerURL\": \"https://plot.ly\"}); \n",
       "}\n",
       "});</script><script type=\"text/javascript\">window.addEventListener(\"resize\", function(){if (document.getElementById(\"a9d328a1-c071-40ad-bbfa-e18b48dd2035\")) {window._Plotly.Plots.resize(document.getElementById(\"a9d328a1-c071-40ad-bbfa-e18b48dd2035\"));};})</script>"
      ]
     },
     "metadata": {},
     "output_type": "display_data"
    }
   ],
   "source": [
    "data_by_date = [go.Scatter(x=results_by_date['incident_date'],\n",
    "                          y=results_by_date['incident_code'],\n",
    "                          mode='lines')]\n",
    "layout = go.Layout(title=\"Daily Incidents Since Jan 2018\",\n",
    "                  xaxis=dict(title=\"Incident Date\"),\n",
    "                  yaxis=dict(title=\"Incident Count\"),\n",
    "                  hovermode='closest')\n",
    "fig = go.Figure(data=data_by_date, layout=layout)\n",
    "iplot(fig)"
   ]
  },
  {
   "cell_type": "code",
   "execution_count": null,
   "metadata": {},
   "outputs": [],
   "source": []
  }
 ],
 "metadata": {
  "kernelspec": {
   "display_name": "Python 3",
   "language": "python",
   "name": "python3"
  },
  "language_info": {
   "codemirror_mode": {
    "name": "ipython",
    "version": 3
   },
   "file_extension": ".py",
   "mimetype": "text/x-python",
   "name": "python",
   "nbconvert_exporter": "python",
   "pygments_lexer": "ipython3",
   "version": "3.7.1"
  }
 },
 "nbformat": 4,
 "nbformat_minor": 2
}
