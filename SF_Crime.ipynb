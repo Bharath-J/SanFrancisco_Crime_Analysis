{
 "cells": [
  {
   "cell_type": "code",
   "execution_count": 27,
   "metadata": {},
   "outputs": [],
   "source": [
    "#Install following libraries if not installed already\n",
    "#!pip install sodapy\n",
    "#!pip install plotly"
   ]
  },
  {
   "cell_type": "code",
   "execution_count": 28,
   "metadata": {},
   "outputs": [],
   "source": [
    "#Import libraries\n",
    "from sodapy import Socrata\n",
    "import plotly.offline as pyo\n",
    "import plotly.graph_objs as go\n",
    "import ipywidgets as widgets\n",
    "import pandas as pd\n",
    "import numpy as np\n",
    "from scipy import special\n",
    "\n",
    "#py.offline.init_notebook_mode(connected=True)"
   ]
  },
  {
   "cell_type": "code",
   "execution_count": 29,
   "metadata": {},
   "outputs": [
    {
     "name": "stderr",
     "output_type": "stream",
     "text": [
      "WARNING:root:Requests made without an app_token will be subject to strict throttling limits.\n"
     ]
    }
   ],
   "source": [
    "client = Socrata(\"data.sfgov.org\", None)"
   ]
  },
  {
   "cell_type": "code",
   "execution_count": 30,
   "metadata": {},
   "outputs": [],
   "source": [
    "results = client.get(\"wg3w-h783\", limit=2000)"
   ]
  },
  {
   "cell_type": "code",
   "execution_count": 31,
   "metadata": {},
   "outputs": [],
   "source": [
    "results_df = pd.DataFrame.from_records(results)"
   ]
  },
  {
   "cell_type": "code",
   "execution_count": 32,
   "metadata": {},
   "outputs": [
    {
     "data": {
      "text/plain": [
       "Index(['incident_datetime', 'incident_date', 'incident_time', 'incident_year',\n",
       "       'incident_day_of_week', 'report_datetime', 'row_id', 'incident_id',\n",
       "       'incident_number', 'cad_number', 'report_type_code',\n",
       "       'report_type_description', 'incident_code', 'incident_category',\n",
       "       'incident_subcategory', 'incident_description', 'resolution',\n",
       "       'intersection', 'cnn', 'police_district', 'analysis_neighborhood',\n",
       "       'supervisor_district', 'latitude', 'longitude', 'point',\n",
       "       ':@computed_region_6qbp_sg9q', ':@computed_region_qgnn_b9vv',\n",
       "       ':@computed_region_26cr_cadq', ':@computed_region_ajp5_b2md',\n",
       "       ':@computed_region_6pnf_4xz7', ':@computed_region_nqbw_i6c3',\n",
       "       ':@computed_region_h4ep_8xdi', ':@computed_region_2dwj_jsy4',\n",
       "       'filed_online', ':@computed_region_jg9y_a9du',\n",
       "       ':@computed_region_y6ts_4iup'],\n",
       "      dtype='object')"
      ]
     },
     "execution_count": 32,
     "metadata": {},
     "output_type": "execute_result"
    }
   ],
   "source": [
    "results_df.columns"
   ]
  },
  {
   "cell_type": "code",
   "execution_count": 33,
   "metadata": {},
   "outputs": [],
   "source": [
    "#Takfe a copy of original dataframe\n",
    "results_df_copy = results_df.copy()"
   ]
  },
  {
   "cell_type": "code",
   "execution_count": 34,
   "metadata": {},
   "outputs": [],
   "source": [
    "#Drop junk columns\n",
    "results_df_copy = results_df_copy[results_df_copy.columns.drop(list(results_df_copy.filter(regex=':@computed_region')))]"
   ]
  },
  {
   "cell_type": "code",
   "execution_count": 35,
   "metadata": {},
   "outputs": [
    {
     "data": {
      "text/plain": [
       "Index(['incident_datetime', 'incident_date', 'incident_time', 'incident_year',\n",
       "       'incident_day_of_week', 'report_datetime', 'row_id', 'incident_id',\n",
       "       'incident_number', 'cad_number', 'report_type_code',\n",
       "       'report_type_description', 'incident_code', 'incident_category',\n",
       "       'incident_subcategory', 'incident_description', 'resolution',\n",
       "       'intersection', 'cnn', 'police_district', 'analysis_neighborhood',\n",
       "       'supervisor_district', 'latitude', 'longitude', 'point',\n",
       "       'filed_online'],\n",
       "      dtype='object')"
      ]
     },
     "execution_count": 35,
     "metadata": {},
     "output_type": "execute_result"
    }
   ],
   "source": [
    "results_df_copy.columns"
   ]
  },
  {
   "cell_type": "markdown",
   "metadata": {},
   "source": [
    "### Which day of the week has the highest and the lowest incident rate?"
   ]
  },
  {
   "cell_type": "code",
   "execution_count": 36,
   "metadata": {},
   "outputs": [
    {
     "data": {
      "text/html": [
       "<div>\n",
       "<style scoped>\n",
       "    .dataframe tbody tr th:only-of-type {\n",
       "        vertical-align: middle;\n",
       "    }\n",
       "\n",
       "    .dataframe tbody tr th {\n",
       "        vertical-align: top;\n",
       "    }\n",
       "\n",
       "    .dataframe thead th {\n",
       "        text-align: right;\n",
       "    }\n",
       "</style>\n",
       "<table border=\"1\" class=\"dataframe\">\n",
       "  <thead>\n",
       "    <tr style=\"text-align: right;\">\n",
       "      <th></th>\n",
       "      <th>incident_day_of_week</th>\n",
       "      <th>incident_description</th>\n",
       "    </tr>\n",
       "  </thead>\n",
       "  <tbody>\n",
       "    <tr>\n",
       "      <th>0</th>\n",
       "      <td>Friday</td>\n",
       "      <td>268</td>\n",
       "    </tr>\n",
       "    <tr>\n",
       "      <th>1</th>\n",
       "      <td>Monday</td>\n",
       "      <td>373</td>\n",
       "    </tr>\n",
       "    <tr>\n",
       "      <th>2</th>\n",
       "      <td>Saturday</td>\n",
       "      <td>363</td>\n",
       "    </tr>\n",
       "    <tr>\n",
       "      <th>3</th>\n",
       "      <td>Sunday</td>\n",
       "      <td>344</td>\n",
       "    </tr>\n",
       "    <tr>\n",
       "      <th>4</th>\n",
       "      <td>Thursday</td>\n",
       "      <td>130</td>\n",
       "    </tr>\n",
       "    <tr>\n",
       "      <th>5</th>\n",
       "      <td>Tuesday</td>\n",
       "      <td>317</td>\n",
       "    </tr>\n",
       "    <tr>\n",
       "      <th>6</th>\n",
       "      <td>Wednesday</td>\n",
       "      <td>205</td>\n",
       "    </tr>\n",
       "  </tbody>\n",
       "</table>\n",
       "</div>"
      ],
      "text/plain": [
       "  incident_day_of_week  incident_description\n",
       "0               Friday                   268\n",
       "1               Monday                   373\n",
       "2             Saturday                   363\n",
       "3               Sunday                   344\n",
       "4             Thursday                   130\n",
       "5              Tuesday                   317\n",
       "6            Wednesday                   205"
      ]
     },
     "execution_count": 36,
     "metadata": {},
     "output_type": "execute_result"
    }
   ],
   "source": [
    "#Aggregate dataframe by incident_day_of_week\n",
    "\n",
    "results_groupby = results_df_copy.groupby(by='incident_day_of_week', as_index=False)['incident_description'].count()\n",
    "results_groupby = pd.DataFrame(results_groupby)\n",
    "results_groupby\n",
    "\n",
    "#list(results_groupby['incident_day_of_week'])"
   ]
  },
  {
   "cell_type": "code",
   "execution_count": 37,
   "metadata": {},
   "outputs": [
    {
     "data": {
      "text/html": [
       "<div>\n",
       "<style scoped>\n",
       "    .dataframe tbody tr th:only-of-type {\n",
       "        vertical-align: middle;\n",
       "    }\n",
       "\n",
       "    .dataframe tbody tr th {\n",
       "        vertical-align: top;\n",
       "    }\n",
       "\n",
       "    .dataframe thead th {\n",
       "        text-align: right;\n",
       "    }\n",
       "</style>\n",
       "<table border=\"1\" class=\"dataframe\">\n",
       "  <thead>\n",
       "    <tr style=\"text-align: right;\">\n",
       "      <th></th>\n",
       "      <th>incident_day_of_week</th>\n",
       "      <th>incident_description</th>\n",
       "    </tr>\n",
       "  </thead>\n",
       "  <tbody>\n",
       "    <tr>\n",
       "      <th>0</th>\n",
       "      <td>Monday</td>\n",
       "      <td>373</td>\n",
       "    </tr>\n",
       "    <tr>\n",
       "      <th>1</th>\n",
       "      <td>Tuesday</td>\n",
       "      <td>317</td>\n",
       "    </tr>\n",
       "    <tr>\n",
       "      <th>2</th>\n",
       "      <td>Wednesday</td>\n",
       "      <td>205</td>\n",
       "    </tr>\n",
       "    <tr>\n",
       "      <th>3</th>\n",
       "      <td>Thursday</td>\n",
       "      <td>130</td>\n",
       "    </tr>\n",
       "    <tr>\n",
       "      <th>4</th>\n",
       "      <td>Friday</td>\n",
       "      <td>268</td>\n",
       "    </tr>\n",
       "    <tr>\n",
       "      <th>5</th>\n",
       "      <td>Saturday</td>\n",
       "      <td>363</td>\n",
       "    </tr>\n",
       "    <tr>\n",
       "      <th>6</th>\n",
       "      <td>Sunday</td>\n",
       "      <td>344</td>\n",
       "    </tr>\n",
       "  </tbody>\n",
       "</table>\n",
       "</div>"
      ],
      "text/plain": [
       "  incident_day_of_week  incident_description\n",
       "0               Monday                   373\n",
       "1              Tuesday                   317\n",
       "2            Wednesday                   205\n",
       "3             Thursday                   130\n",
       "4               Friday                   268\n",
       "5             Saturday                   363\n",
       "6               Sunday                   344"
      ]
     },
     "execution_count": 37,
     "metadata": {},
     "output_type": "execute_result"
    }
   ],
   "source": [
    "#Re-order incident_day_of_week to Monday, Tuesday, etc\n",
    "results_df_copy['incident_day_of_week'] = pd.Categorical(values=results_df_copy['incident_day_of_week'],\n",
    "                                                        categories=['Monday','Tuesday','Wednesday','Thursday',\n",
    "                                                                   'Friday','Saturday','Sunday'],\n",
    "                                                        ordered=True)\n",
    "results_groupby = results_df_copy.groupby(by='incident_day_of_week', as_index=False)['incident_description'].count()\n",
    "results_groupby = pd.DataFrame(results_groupby)\n",
    "results_groupby"
   ]
  },
  {
   "cell_type": "code",
   "execution_count": 61,
   "metadata": {},
   "outputs": [
    {
     "data": {
      "text/plain": [
       "'file:///Users/bharath/Desktop/Apps/Coursera/Github/SanFrancisco_Crime/scatter+line.html'"
      ]
     },
     "execution_count": 61,
     "metadata": {},
     "output_type": "execute_result"
    }
   ],
   "source": [
    "data = [go.Scatter(\n",
    "    x = results_groupby['incident_day_of_week'],\n",
    "    y = results_groupby['incident_description'],\n",
    "    mode = 'markers+lines',\n",
    "    marker = dict(\n",
    "        size = 10,\n",
    "        color = 'rgb(51,204,153)',\n",
    "        symbol = 'circle',\n",
    "        line = dict(\n",
    "            width = 2)\n",
    "    )\n",
    "    )]\n",
    "\n",
    "layout = go.Layout(\n",
    "    title = 'Number of Incidents by Day of Week',\n",
    "    xaxis = dict(title='Incident Day of Week'),\n",
    "    yaxis = dict(title='Number of Incidents'),\n",
    "    hovermode='closest'\n",
    ")\n",
    "\n",
    "fig = go.Figure(data=data, layout=layout)\n",
    "pyo.plot(fig, filename='scatter+line.html')"
   ]
  },
  {
   "cell_type": "markdown",
   "metadata": {},
   "source": [
    "### Incident trend for over a year\n"
   ]
  },
  {
   "cell_type": "code",
   "execution_count": 55,
   "metadata": {},
   "outputs": [
    {
     "data": {
      "text/plain": [
       "incident_datetime                  object\n",
       "incident_date              datetime64[ns]\n",
       "incident_time                      object\n",
       "incident_year                      object\n",
       "incident_day_of_week             category\n",
       "report_datetime                    object\n",
       "row_id                             object\n",
       "incident_id                        object\n",
       "incident_number                    object\n",
       "cad_number                         object\n",
       "report_type_code                   object\n",
       "report_type_description            object\n",
       "incident_code                      object\n",
       "incident_category                  object\n",
       "incident_subcategory               object\n",
       "incident_description               object\n",
       "resolution                         object\n",
       "intersection                       object\n",
       "cnn                                object\n",
       "police_district                    object\n",
       "analysis_neighborhood              object\n",
       "supervisor_district                object\n",
       "latitude                           object\n",
       "longitude                          object\n",
       "point                              object\n",
       "filed_online                       object\n",
       "dtype: object"
      ]
     },
     "execution_count": 55,
     "metadata": {},
     "output_type": "execute_result"
    }
   ],
   "source": [
    "#Find datatype of incident_date\n",
    "results_df_copy.dtypes"
   ]
  },
  {
   "cell_type": "code",
   "execution_count": 51,
   "metadata": {},
   "outputs": [],
   "source": [
    "#Convert incident_date from object to datetime\n",
    "results_df_copy['incident_date'] = pd.to_datetime(results_df_copy['incident_date'])"
   ]
  },
  {
   "cell_type": "code",
   "execution_count": 53,
   "metadata": {},
   "outputs": [
    {
     "data": {
      "text/html": [
       "<div>\n",
       "<style scoped>\n",
       "    .dataframe tbody tr th:only-of-type {\n",
       "        vertical-align: middle;\n",
       "    }\n",
       "\n",
       "    .dataframe tbody tr th {\n",
       "        vertical-align: top;\n",
       "    }\n",
       "\n",
       "    .dataframe thead th {\n",
       "        text-align: right;\n",
       "    }\n",
       "</style>\n",
       "<table border=\"1\" class=\"dataframe\">\n",
       "  <thead>\n",
       "    <tr style=\"text-align: right;\">\n",
       "      <th></th>\n",
       "      <th>incident_date</th>\n",
       "      <th>incident_code</th>\n",
       "    </tr>\n",
       "  </thead>\n",
       "  <tbody>\n",
       "    <tr>\n",
       "      <th>0</th>\n",
       "      <td>2018-01-02</td>\n",
       "      <td>1</td>\n",
       "    </tr>\n",
       "    <tr>\n",
       "      <th>1</th>\n",
       "      <td>2018-03-15</td>\n",
       "      <td>1</td>\n",
       "    </tr>\n",
       "    <tr>\n",
       "      <th>2</th>\n",
       "      <td>2018-05-22</td>\n",
       "      <td>1</td>\n",
       "    </tr>\n",
       "    <tr>\n",
       "      <th>3</th>\n",
       "      <td>2018-06-20</td>\n",
       "      <td>1</td>\n",
       "    </tr>\n",
       "    <tr>\n",
       "      <th>4</th>\n",
       "      <td>2018-07-11</td>\n",
       "      <td>1</td>\n",
       "    </tr>\n",
       "    <tr>\n",
       "      <th>...</th>\n",
       "      <td>...</td>\n",
       "      <td>...</td>\n",
       "    </tr>\n",
       "    <tr>\n",
       "      <th>371</th>\n",
       "      <td>2020-05-20</td>\n",
       "      <td>15</td>\n",
       "    </tr>\n",
       "    <tr>\n",
       "      <th>372</th>\n",
       "      <td>2020-05-21</td>\n",
       "      <td>22</td>\n",
       "    </tr>\n",
       "    <tr>\n",
       "      <th>373</th>\n",
       "      <td>2020-05-22</td>\n",
       "      <td>92</td>\n",
       "    </tr>\n",
       "    <tr>\n",
       "      <th>374</th>\n",
       "      <td>2020-05-23</td>\n",
       "      <td>187</td>\n",
       "    </tr>\n",
       "    <tr>\n",
       "      <th>375</th>\n",
       "      <td>2020-05-24</td>\n",
       "      <td>105</td>\n",
       "    </tr>\n",
       "  </tbody>\n",
       "</table>\n",
       "<p>376 rows × 2 columns</p>\n",
       "</div>"
      ],
      "text/plain": [
       "    incident_date  incident_code\n",
       "0      2018-01-02              1\n",
       "1      2018-03-15              1\n",
       "2      2018-05-22              1\n",
       "3      2018-06-20              1\n",
       "4      2018-07-11              1\n",
       "..            ...            ...\n",
       "371    2020-05-20             15\n",
       "372    2020-05-21             22\n",
       "373    2020-05-22             92\n",
       "374    2020-05-23            187\n",
       "375    2020-05-24            105\n",
       "\n",
       "[376 rows x 2 columns]"
      ]
     },
     "execution_count": 53,
     "metadata": {},
     "output_type": "execute_result"
    }
   ],
   "source": [
    "#Group by date\n",
    "results_by_date = results_df_copy.groupby(by='incident_date', as_index=False)['incident_code'].count()\n",
    "results_by_date = pd.DataFrame(results_by_date)\n",
    "results_by_date"
   ]
  },
  {
   "cell_type": "code",
   "execution_count": 64,
   "metadata": {},
   "outputs": [
    {
     "data": {
      "text/plain": [
       "'file:///Users/bharath/Desktop/Apps/Coursera/Github/SanFrancisco_Crime/line.html'"
      ]
     },
     "execution_count": 64,
     "metadata": {},
     "output_type": "execute_result"
    }
   ],
   "source": [
    "data_by_date = [go.Scatter(x=results_by_date['incident_date'],\n",
    "                          y=results_by_date['incident_code'],\n",
    "                          mode='lines')]\n",
    "layout = go.Layout(title=\"Daily Incidents Since Jan 2018\",\n",
    "                  xaxis=dict(title=\"Incident Date\"),\n",
    "                  yaxis=dict(title=\"Incident Count\"),\n",
    "                  hovermode='closest')\n",
    "fig = go.Figure(data=data_by_date, layout=layout)\n",
    "pyo.plot(fig, filename='DailIncidents_Line.html')"
   ]
  },
  {
   "cell_type": "code",
   "execution_count": null,
   "metadata": {},
   "outputs": [],
   "source": []
  }
 ],
 "metadata": {
  "kernelspec": {
   "display_name": "Python 3",
   "language": "python",
   "name": "python3"
  },
  "language_info": {
   "codemirror_mode": {
    "name": "ipython",
    "version": 3
   },
   "file_extension": ".py",
   "mimetype": "text/x-python",
   "name": "python",
   "nbconvert_exporter": "python",
   "pygments_lexer": "ipython3",
   "version": "3.7.1"
  }
 },
 "nbformat": 4,
 "nbformat_minor": 2
}
