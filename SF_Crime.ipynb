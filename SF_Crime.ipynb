{
 "cells": [
  {
   "cell_type": "code",
   "execution_count": 7,
   "metadata": {},
   "outputs": [],
   "source": [
    "#Install following libraries if not installed already\n",
    "#!pip install sodapy\n",
    "#!pip install plotly"
   ]
  },
  {
   "cell_type": "code",
   "execution_count": 8,
   "metadata": {},
   "outputs": [],
   "source": [
    "#Import libraries\n",
    "from sodapy import Socrata\n",
    "import plotly.offline as pyo\n",
    "import plotly.graph_objs as go\n",
    "import ipywidgets as widgets\n",
    "import pandas as pd\n",
    "import numpy as np\n",
    "from scipy import special\n",
    "\n",
    "#py.offline.init_notebook_mode(connected=True)"
   ]
  },
  {
   "cell_type": "code",
   "execution_count": 9,
   "metadata": {},
   "outputs": [
    {
     "name": "stderr",
     "output_type": "stream",
     "text": [
      "WARNING:root:Requests made without an app_token will be subject to strict throttling limits.\n"
     ]
    }
   ],
   "source": [
    "client = Socrata(\"data.sfgov.org\", None)"
   ]
  },
  {
   "cell_type": "code",
   "execution_count": 10,
   "metadata": {},
   "outputs": [],
   "source": [
    "results = client.get(\"wg3w-h783\", limit=2000)"
   ]
  },
  {
   "cell_type": "code",
   "execution_count": 11,
   "metadata": {},
   "outputs": [],
   "source": [
    "results_df = pd.DataFrame.from_records(results)"
   ]
  },
  {
   "cell_type": "code",
   "execution_count": 12,
   "metadata": {},
   "outputs": [
    {
     "data": {
      "text/plain": [
       "Index([':@computed_region_26cr_cadq', ':@computed_region_2dwj_jsy4',\n",
       "       ':@computed_region_6pnf_4xz7', ':@computed_region_6qbp_sg9q',\n",
       "       ':@computed_region_ajp5_b2md', ':@computed_region_h4ep_8xdi',\n",
       "       ':@computed_region_jg9y_a9du', ':@computed_region_nqbw_i6c3',\n",
       "       ':@computed_region_qgnn_b9vv', ':@computed_region_y6ts_4iup',\n",
       "       'analysis_neighborhood', 'cad_number', 'cnn', 'filed_online',\n",
       "       'incident_category', 'incident_code', 'incident_date',\n",
       "       'incident_datetime', 'incident_day_of_week', 'incident_description',\n",
       "       'incident_id', 'incident_number', 'incident_subcategory',\n",
       "       'incident_time', 'incident_year', 'intersection', 'latitude',\n",
       "       'longitude', 'point', 'police_district', 'report_datetime',\n",
       "       'report_type_code', 'report_type_description', 'resolution', 'row_id',\n",
       "       'supervisor_district'],\n",
       "      dtype='object')"
      ]
     },
     "execution_count": 12,
     "metadata": {},
     "output_type": "execute_result"
    }
   ],
   "source": [
    "results_df.columns"
   ]
  },
  {
   "cell_type": "code",
   "execution_count": 13,
   "metadata": {},
   "outputs": [],
   "source": [
    "#Taking a copy of original dataframe\n",
    "results_df_copy = results_df.copy()"
   ]
  },
  {
   "cell_type": "code",
   "execution_count": 14,
   "metadata": {},
   "outputs": [],
   "source": [
    "#Dropping junk columns\n",
    "results_df_copy = results_df_copy[results_df_copy.columns.drop(list(results_df_copy.filter(regex=':@computed_region')))]"
   ]
  },
  {
   "cell_type": "code",
   "execution_count": 16,
   "metadata": {},
   "outputs": [
    {
     "data": {
      "text/plain": [
       "Index(['analysis_neighborhood', 'cad_number', 'cnn', 'filed_online',\n",
       "       'incident_category', 'incident_code', 'incident_date',\n",
       "       'incident_datetime', 'incident_day_of_week', 'incident_description',\n",
       "       'incident_id', 'incident_number', 'incident_subcategory',\n",
       "       'incident_time', 'incident_year', 'intersection', 'latitude',\n",
       "       'longitude', 'point', 'police_district', 'report_datetime',\n",
       "       'report_type_code', 'report_type_description', 'resolution', 'row_id',\n",
       "       'supervisor_district'],\n",
       "      dtype='object')"
      ]
     },
     "execution_count": 16,
     "metadata": {},
     "output_type": "execute_result"
    }
   ],
   "source": [
    "results_df_copy.columns"
   ]
  },
  {
   "cell_type": "code",
   "execution_count": 46,
   "metadata": {},
   "outputs": [
    {
     "data": {
      "text/html": [
       "<div>\n",
       "<style scoped>\n",
       "    .dataframe tbody tr th:only-of-type {\n",
       "        vertical-align: middle;\n",
       "    }\n",
       "\n",
       "    .dataframe tbody tr th {\n",
       "        vertical-align: top;\n",
       "    }\n",
       "\n",
       "    .dataframe thead th {\n",
       "        text-align: right;\n",
       "    }\n",
       "</style>\n",
       "<table border=\"1\" class=\"dataframe\">\n",
       "  <thead>\n",
       "    <tr style=\"text-align: right;\">\n",
       "      <th></th>\n",
       "      <th>incident_day_of_week</th>\n",
       "      <th>incident_description</th>\n",
       "    </tr>\n",
       "  </thead>\n",
       "  <tbody>\n",
       "    <tr>\n",
       "      <th>0</th>\n",
       "      <td>Friday</td>\n",
       "      <td>208</td>\n",
       "    </tr>\n",
       "    <tr>\n",
       "      <th>1</th>\n",
       "      <td>Monday</td>\n",
       "      <td>417</td>\n",
       "    </tr>\n",
       "    <tr>\n",
       "      <th>2</th>\n",
       "      <td>Saturday</td>\n",
       "      <td>212</td>\n",
       "    </tr>\n",
       "    <tr>\n",
       "      <th>3</th>\n",
       "      <td>Sunday</td>\n",
       "      <td>264</td>\n",
       "    </tr>\n",
       "    <tr>\n",
       "      <th>4</th>\n",
       "      <td>Thursday</td>\n",
       "      <td>191</td>\n",
       "    </tr>\n",
       "    <tr>\n",
       "      <th>5</th>\n",
       "      <td>Tuesday</td>\n",
       "      <td>389</td>\n",
       "    </tr>\n",
       "    <tr>\n",
       "      <th>6</th>\n",
       "      <td>Wednesday</td>\n",
       "      <td>319</td>\n",
       "    </tr>\n",
       "  </tbody>\n",
       "</table>\n",
       "</div>"
      ],
      "text/plain": [
       "  incident_day_of_week  incident_description\n",
       "0               Friday                   208\n",
       "1               Monday                   417\n",
       "2             Saturday                   212\n",
       "3               Sunday                   264\n",
       "4             Thursday                   191\n",
       "5              Tuesday                   389\n",
       "6            Wednesday                   319"
      ]
     },
     "execution_count": 46,
     "metadata": {},
     "output_type": "execute_result"
    }
   ],
   "source": [
    "results_groupby = results_df_copy.groupby(by='incident_day_of_week', as_index=False)['incident_description'].count()\n",
    "results_groupby = pd.DataFrame(results_groupby)\n",
    "results_groupby\n",
    "\n",
    "#list(results_groupby['incident_day_of_week'])"
   ]
  },
  {
   "cell_type": "code",
   "execution_count": 53,
   "metadata": {},
   "outputs": [
    {
     "data": {
      "text/plain": [
       "'file:///Users/bharath/Desktop/Apps/Coursera/Github/SanFrancisco_Crime/scatter.html'"
      ]
     },
     "execution_count": 53,
     "metadata": {},
     "output_type": "execute_result"
    }
   ],
   "source": [
    "data = [go.Scatter(\n",
    "    x = results_groupby['incident_day_of_week'],\n",
    "    y = results_groupby['incident_description'],\n",
    "    mode = 'markers',\n",
    "    marker = dict(\n",
    "        size = 14,\n",
    "        color = 'rgb(51,204,153)',\n",
    "        symbol = 'pentagon',\n",
    "        line = dict(\n",
    "            width = 2)\n",
    "    )\n",
    "    )]\n",
    "\n",
    "layout = go.Layout(\n",
    "    title = 'Number of Incidents by Day of Week',\n",
    "    xaxis = dict(title='Incident Day of Week'),\n",
    "    yaxis = dict(title='Number of Incidents'),\n",
    "    hovermode='closest'\n",
    ")\n",
    "\n",
    "fig = go.Figure(data=data, layout=layout)\n",
    "pyo.plot(fig, filename='scatter.html')"
   ]
  },
  {
   "cell_type": "code",
   "execution_count": 50,
   "metadata": {},
   "outputs": [
    {
     "name": "stdout",
     "output_type": "stream",
     "text": [
      "SF_Crime.ipynb scatter.html\r\n"
     ]
    }
   ],
   "source": []
  }
 ],
 "metadata": {
  "kernelspec": {
   "display_name": "Python 3",
   "language": "python",
   "name": "python3"
  },
  "language_info": {
   "codemirror_mode": {
    "name": "ipython",
    "version": 3
   },
   "file_extension": ".py",
   "mimetype": "text/x-python",
   "name": "python",
   "nbconvert_exporter": "python",
   "pygments_lexer": "ipython3",
   "version": "3.7.1"
  }
 },
 "nbformat": 4,
 "nbformat_minor": 2
}
